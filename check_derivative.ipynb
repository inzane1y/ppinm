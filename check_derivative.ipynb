{
 "cells": [
  {
   "cell_type": "code",
   "execution_count": 1,
   "id": "eb4b75b3",
   "metadata": {},
   "outputs": [],
   "source": [
    "import modules_py.functions as f\n",
    "\n",
    "import numpy as np\n",
    "from scipy.misc import derivative\n",
    "import matplotlib.pyplot as plt"
   ]
  },
  {
   "cell_type": "code",
   "execution_count": 11,
   "id": "cff772ed",
   "metadata": {},
   "outputs": [],
   "source": [
    "pf = 1.91\n",
    "k = 0.1\n",
    "\n",
    "number_of_points = 1000\n",
    "W = np.r_[1e-9:6:number_of_points * 1j]\n",
    "\n",
    "def function(w):\n",
    "    return f.pi_pnd(k, w, pf).real # <--\n",
    "numerical_derivative = np.empty(number_of_points)\n",
    "for i, w in enumerate(W):\n",
    "    numerical_derivative[i] = derivative(function, w, dx=1e-9)\n",
    "\n",
    "by_hand_derivative_vec = np.vectorize(f.pi_pnd_dw, excluded=['k', 'pf']) # <--"
   ]
  },
  {
   "cell_type": "code",
   "execution_count": 14,
   "id": "f7175b79",
   "metadata": {},
   "outputs": [
    {
     "data": {
      "application/vnd.jupyter.widget-view+json": {
       "model_id": "241e5086d11b42a390863975b17a15c9",
       "version_major": 2,
       "version_minor": 0
      },
      "text/plain": [
       "Canvas(toolbar=Toolbar(toolitems=[('Home', 'Reset original view', 'home', 'home'), ('Back', 'Back to previous …"
      ]
     },
     "metadata": {},
     "output_type": "display_data"
    }
   ],
   "source": [
    "%matplotlib widget\n",
    "\n",
    "plt.plot(W, numerical_derivative, label='numerical')\n",
    "plt.plot(W, by_hand_derivative_vec(k, W, pf).real, label='by hand', ls='--')\n",
    "\n",
    "plt.ylim(-5, 5)\n",
    "plt.legend()\n",
    "plt.show()"
   ]
  },
  {
   "cell_type": "code",
   "execution_count": null,
   "id": "92bb50f5",
   "metadata": {},
   "outputs": [],
   "source": []
  },
  {
   "cell_type": "code",
   "execution_count": null,
   "id": "0033f38b",
   "metadata": {},
   "outputs": [],
   "source": []
  }
 ],
 "metadata": {
  "kernelspec": {
   "display_name": "Python 3",
   "language": "python",
   "name": "python3"
  },
  "language_info": {
   "codemirror_mode": {
    "name": "ipython",
    "version": 3
   },
   "file_extension": ".py",
   "mimetype": "text/x-python",
   "name": "python",
   "nbconvert_exporter": "python",
   "pygments_lexer": "ipython3",
   "version": "3.8.10"
  }
 },
 "nbformat": 4,
 "nbformat_minor": 5
}
