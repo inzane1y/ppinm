{
 "cells": [
  {
   "cell_type": "code",
   "execution_count": 40,
   "id": "e76c2f77",
   "metadata": {},
   "outputs": [],
   "source": [
    "# Main modules\n",
    "import numpy as np\n",
    "import matplotlib.pyplot as plt\n",
    "import os\n",
    "\n",
    "plt.style.use('publication23.mplstyle')\n",
    "\n",
    "# Integration\n",
    "from scipy.integrate import quad, quadrature\n",
    "\n",
    "# Custom modules\n",
    "import modules_py.functions as f"
   ]
  },
  {
   "cell_type": "code",
   "execution_count": 41,
   "id": "3cf1e0af",
   "metadata": {},
   "outputs": [],
   "source": [
    "def get_data_from_file(filename):\n",
    "    '''Data getter.'''\n",
    "    data = np.genfromtxt(filename)\n",
    "    if data.ndim == 1:\n",
    "        return np.array([data[0]]), np.array([data[1:]])\n",
    "    else:\n",
    "        return data[:, 0], data[:, 1:]\n",
    "\n",
    "# Sorting key\n",
    "import re\n",
    "def atoi(text):\n",
    "    '''Turns text to numbers.'''\n",
    "    return int(text) if text.isdigit() else text\n",
    "def natural_keys(text):\n",
    "    '''Keys for intuitive string sorting.'''\n",
    "    return [ atoi(c) for c in re.split(r'(\\d+)', text) ]"
   ]
  },
  {
   "cell_type": "code",
   "execution_count": 45,
   "id": "6b8a4e5f",
   "metadata": {},
   "outputs": [],
   "source": [
    "def integrand(w, k, pf):\n",
    "    return 2 / np.pi * w * f.d_pnn_corr_pnd_corr(k, w, pf, width=0).imag # <--\n",
    "\n",
    "pf = 2.43\n",
    "n_pf = 2 * pf ** 3 / (3 * np.pi ** 2 * 0.47)\n",
    "pf_name = '%.3f/' % pf\n",
    "graphs_dir = 'graph_data/'\n",
    "function_name = '_unity_eq_pnn_corr_pnd_corr/' # <--\n",
    "directory_name = graphs_dir + function_name + pf_name\n",
    "\n",
    "graph_files = os.listdir(directory_name)\n",
    "graph_files.sort(key=natural_keys)"
   ]
  },
  {
   "cell_type": "code",
   "execution_count": 46,
   "id": "bb17f7ef",
   "metadata": {},
   "outputs": [
    {
     "name": "stderr",
     "output_type": "stream",
     "text": [
      "<ipython-input-46-6d4e4bdea2a0>:14: IntegrationWarning: The maximum number of subdivisions (50) has been achieved.\n",
      "  If increasing the limit yields no improvement it is advised to analyze \n",
      "  the integrand in order to determine the difficulties.  If the position of a \n",
      "  local difficulty can be determined (singularity, discontinuity) one will \n",
      "  probably gain from splitting up the interval and calling the integrator \n",
      "  on the subranges.  Perhaps a special-purpose integrator should be used.\n",
      "  tmp_integral = quad(integrand, 1e-9, w_break, args=(k, pf))[0]\n"
     ]
    }
   ],
   "source": [
    "k_sum_rule = np.array([])\n",
    "sum_rule_total = np.array([])\n",
    "\n",
    "sum_rule_contribution_integral = np.array([])\n",
    "sum_rule_contribution_sum = np.array([])\n",
    "\n",
    "w_break = 4\n",
    "\n",
    "for graph_file in graph_files:\n",
    "    K, W = get_data_from_file(directory_name + graph_file)\n",
    "    k_sum_rule = np.append(k_sum_rule, K)\n",
    "    \n",
    "    for i, k in enumerate(K):\n",
    "        tmp_integral = quad(integrand, 1e-9, w_break, args=(k, pf))[0]\n",
    "        tmp_integral += quad(integrand, w_break, 10, args=(k, pf))[0]\n",
    "        \n",
    "        tmp_sum = 0\n",
    "        for w in W[i, :]:\n",
    "            if np.abs(f.d_pnn_corr_pnd_corr(k, w, pf, width=0).imag) == 0: # <--\n",
    "                tmp_sum += 2.0 * w / (2.0 * w - f.pi_pnn_corr_pnd_corr_dw(k, w, pf)) # <--\n",
    "        \n",
    "        sum_rule_contribution_integral = np.append(sum_rule_contribution_integral, tmp_integral)\n",
    "        sum_rule_contribution_sum = np.append(sum_rule_contribution_sum, tmp_sum)\n",
    "        sum_rule_total = np.append(sum_rule_total, tmp_integral + tmp_sum)"
   ]
  },
  {
   "cell_type": "code",
   "execution_count": 47,
   "id": "e3f3b89e",
   "metadata": {},
   "outputs": [
    {
     "data": {
      "application/vnd.jupyter.widget-view+json": {
       "model_id": "7b58e97318bb4443ac1791952cf6347e",
       "version_major": 2,
       "version_minor": 0
      },
      "text/plain": [
       "Canvas(toolbar=Toolbar(toolitems=[('Home', 'Reset original view', 'home', 'home'), ('Back', 'Back to previous …"
      ]
     },
     "metadata": {},
     "output_type": "display_data"
    },
    {
     "name": "stderr",
     "output_type": "stream",
     "text": [
      "/Users/vladlen/anaconda3/lib/python3.8/site-packages/numpy/core/_asarray.py:102: ComplexWarning: Casting complex values to real discards the imaginary part\n",
      "  return array(a, dtype, copy=False, order=order)\n",
      "/Users/vladlen/anaconda3/lib/python3.8/site-packages/numpy/core/_asarray.py:102: ComplexWarning: Casting complex values to real discards the imaginary part\n",
      "  return array(a, dtype, copy=False, order=order)\n"
     ]
    }
   ],
   "source": [
    "%matplotlib widget\n",
    "\n",
    "plt.plot(k_sum_rule, sum_rule_total, color='#363636', label='total')\n",
    "plt.plot(k_sum_rule, sum_rule_contribution_integral, color='red', ls='--', label='integral')\n",
    "plt.plot(k_sum_rule, sum_rule_contribution_sum, color='green', ls=':', label='sum')\n",
    "\n",
    "plt.title(r'$n = %.2f n_0$' % n_pf)\n",
    "plt.xlabel(r'$k$')\n",
    "plt.ylim(-0.1, 1.1)\n",
    "plt.xlim(0, 5)\n",
    "plt.legend()\n",
    "plt.savefig('figures/_unity_pnn_corr_pnd_corr_%4.2f.jpg' % n_pf, format='JPG', dpi=300, bbox_inches='tight') # <--\n",
    "plt.show()"
   ]
  },
  {
   "cell_type": "code",
   "execution_count": null,
   "id": "7afdeb49",
   "metadata": {},
   "outputs": [],
   "source": []
  }
 ],
 "metadata": {
  "kernelspec": {
   "display_name": "Python 3",
   "language": "python",
   "name": "python3"
  },
  "language_info": {
   "codemirror_mode": {
    "name": "ipython",
    "version": 3
   },
   "file_extension": ".py",
   "mimetype": "text/x-python",
   "name": "python",
   "nbconvert_exporter": "python",
   "pygments_lexer": "ipython3",
   "version": "3.8.10"
  }
 },
 "nbformat": 4,
 "nbformat_minor": 5
}
