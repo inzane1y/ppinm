{
 "cells": [
  {
   "cell_type": "code",
   "execution_count": 21,
   "id": "7d2c7e03",
   "metadata": {},
   "outputs": [],
   "source": [
    "import matplotlib.pyplot as plt\n",
    "import numpy as np\n",
    "import os\n",
    "\n",
    "import modules_py.functions as f\n",
    "import modules_py.functions_vec as fv\n",
    "\n",
    "plt.style.use('publication23.mplstyle')"
   ]
  },
  {
   "cell_type": "code",
   "execution_count": 22,
   "id": "bb562789",
   "metadata": {},
   "outputs": [],
   "source": [
    "from matplotlib.colors import ListedColormap\n",
    "\n",
    "cmap_green = ListedColormap(['#ffffff00', '#a1ae25']) # Green\n",
    "cmap_red = ListedColormap(['#ffffff00', '#ec4f43']) # Red\n",
    "cmap_blue = ListedColormap(['#ffffff00', '#0960BD']) # Blue\n",
    "cmap_yellow = ListedColormap(['#ffffff00', '#F6C90E']) # Yellow"
   ]
  },
  {
   "cell_type": "code",
   "execution_count": 23,
   "id": "2d0575af",
   "metadata": {},
   "outputs": [],
   "source": [
    "def get_data_from_file(filename):\n",
    "    '''Data getter.'''\n",
    "    data = np.genfromtxt(filename)\n",
    "    if data.ndim == 1:\n",
    "        return np.array([data[0]]), np.array([data[1:]])\n",
    "    else:\n",
    "        return data[:, 0], data[:, 1:]\n",
    "\n",
    "# Sorting key\n",
    "import re\n",
    "def atoi(text):\n",
    "    '''Turns text to numbers.'''\n",
    "    return int(text) if text.isdigit() else text\n",
    "def natural_keys(text):\n",
    "    '''Keys for intuitive string sorting.'''\n",
    "    return [ atoi(c) for c in re.split(r'(\\d+)', text) ]"
   ]
  },
  {
   "cell_type": "code",
   "execution_count": 24,
   "id": "7252c04d",
   "metadata": {},
   "outputs": [],
   "source": [
    "def free_branch(k):\n",
    "    return np.sqrt(k ** 2 + 1)\n",
    "free_branch_vec = np.vectorize(free_branch)"
   ]
  },
  {
   "cell_type": "markdown",
   "id": "5929e767",
   "metadata": {},
   "source": [
    "# $\\Pi_{\\pi N N}^{(corr)}$"
   ]
  },
  {
   "cell_type": "markdown",
   "id": "b4bfbe7e",
   "metadata": {},
   "source": [
    "## $n = 1.0 n_0$"
   ]
  },
  {
   "cell_type": "code",
   "execution_count": 6,
   "id": "71fa6bb6",
   "metadata": {
    "scrolled": true
   },
   "outputs": [
    {
     "data": {
      "image/png": "[encoded data removed]",
      "text/plain": [
       "<Figure size 432x288 with 1 Axes>"
      ]
     },
     "metadata": {
      "needs_background": "light"
     },
     "output_type": "display_data"
    }
   ],
   "source": [
    "pf = 1.88\n",
    "n_pf = 2 * pf ** 3 / (3 * np.pi ** 2 * 0.45)\n",
    "pf_name = '%.3f/' % pf\n",
    "graphs_dir = 'graph_data/'\n",
    "function_name = 'eq_pnn_corr/' # <--\n",
    "directory_name = graphs_dir + function_name + pf_name\n",
    "\n",
    "graph_files = os.listdir(directory_name)\n",
    "graph_files.sort(key=natural_keys)\n",
    "\n",
    "%matplotlib inline\n",
    "\n",
    "label_solid_done = False\n",
    "label_dotted_done = False\n",
    "for graph_file in graph_files:\n",
    "    K, W = get_data_from_file(directory_name + graph_file)\n",
    "    \n",
    "    for w in W.T:\n",
    "        solid_line_condition = np.abs(fv.d_pnn_corr(K, w, pf, width=0).imag) == 0 # <--\n",
    "        not_solid_line_condition = np.invert(solid_line_condition)\n",
    "        \n",
    "        if label_solid_done:\n",
    "            plt.plot(K[solid_line_condition], w[solid_line_condition], color='#363636')\n",
    "        else:\n",
    "            plt.plot(K[solid_line_condition], w[solid_line_condition], color='#363636')#, label=r'Im $\\Pi = 0$')\n",
    "            label_solid_done = True\n",
    "        \n",
    "        if label_dotted_done:\n",
    "            plt.plot(K[not_solid_line_condition], w[not_solid_line_condition], color='#363636', ls=':')\n",
    "        else:\n",
    "            plt.plot(K[not_solid_line_condition], w[not_solid_line_condition], color='#363636', ls=':')#, label=r'Im $\\Pi \\ne 0$')\n",
    "            label_dotted_done = True\n",
    "            \n",
    "k_slice = 4\n",
    "k = np.r_[1e-9:5:200j]\n",
    "w = np.r_[1e-9:6:200j]\n",
    "        \n",
    "K, W = np.meshgrid(k, w)\n",
    "\n",
    "plt.contourf(K, W, np.abs(fv.d_pnn_corr(K, W, pf, width=0).imag) > 0, cmap=cmap_blue, alpha=0.2) # <--\n",
    "\n",
    "# Free branch\n",
    "plt.plot(k, free_branch_vec(k), color='blue', ls='--', label=r'$\\sqrt{m_\\pi ^ 2 + k ^ 2}$')\n",
    "\n",
    "# Equation slice\n",
    "# plt.axvline(x=k_slice, ls='-.', color='red')\n",
    "\n",
    "plt.xlim(0, 5)\n",
    "plt.ylim(0, 6)\n",
    "\n",
    "plt.title(r'$n = %.1f n_0$' % n_pf)\n",
    "plt.xlabel(r'$k$ $[m_\\pi]$')\n",
    "plt.ylabel(r'$\\omega$ $[m_\\pi]$')\n",
    "plt.legend(loc='upper left', frameon=False)\n",
    "\n",
    "plt.savefig('figures/eq/eq_pnn_corr_%.2f.pdf' % n_pf, dpi=300, format='PDF', bbox_inches='tight') # <--\n",
    "plt.show()"
   ]
  },
  {
   "cell_type": "code",
   "execution_count": 20,
   "id": "1b645b20",
   "metadata": {
    "scrolled": true
   },
   "outputs": [
    {
     "data": {
      "application/vnd.jupyter.widget-view+json": {
       "model_id": "122290fe3796437c9b768aa4d767e25d",
       "version_major": 2,
       "version_minor": 0
      },
      "text/plain": [
       "Canvas(toolbar=Toolbar(toolitems=[('Home', 'Reset original view', 'home', 'home'), ('Back', 'Back to previous …"
      ]
     },
     "metadata": {},
     "output_type": "display_data"
    }
   ],
   "source": [
    "%matplotlib widget\n",
    "\n",
    "w = np.r_[1e-9:6:100000j]\n",
    "\n",
    "plt.plot(w, 2 * fv.eq_pnn_corr(.65, w, 1.88).real, color='black')\n",
    "\n",
    "plt.title(r'$k = %.1f m_\\pi$' % 2)\n",
    "plt.xlabel(r'$\\omega ^ 2$ $[m_\\pi^2]$')\n",
    "plt.ylabel(r'$A$ $[m_\\pi ^ {-2}]$')\n",
    "\n",
    "plt.axhline(y=0, ls=':', lw=1, color='black')\n",
    "# plt.ylim(-1, 5)\n",
    "plt.xlim(0, 7)\n",
    "\n",
    "# plt.savefig('figures/d/d_pnn_corr_ff_pnd_corr_ff_n%.2f_k%.1f.jpg' % (n_pf, k_slice1), dpi=300, format='JPG', bbox_inches='tight')\n",
    "# plt.savefig('figures/d/d_pnn_corr_ff_pnd_corr_ff_n%.2f_k%.1f.pdf' % (n_pf, k_slice1), dpi=300, format='PDF', bbox_inches='tight')\n",
    "plt.show()"
   ]
  },
  {
   "cell_type": "markdown",
   "id": "23aa7282",
   "metadata": {},
   "source": [
    "## $n = 3.9 n_0$"
   ]
  },
  {
   "cell_type": "code",
   "execution_count": 37,
   "id": "fbe1fec5",
   "metadata": {
    "scrolled": true
   },
   "outputs": [
    {
     "data": {
      "image/png": "[encoded data removed]",
      "text/plain": [
       "<Figure size 432x288 with 1 Axes>"
      ]
     },
     "metadata": {
      "needs_background": "light"
     },
     "output_type": "display_data"
    }
   ],
   "source": [
    "pf = 3.48\n",
    "n_pf = 2 * pf ** 3 / (3 * np.pi ** 2 * 0.45)\n",
    "pf_name = '%.3f/' % pf\n",
    "graphs_dir = 'graph_data/'\n",
    "function_name = 'eq_pnn_corr/' # <--\n",
    "directory_name = graphs_dir + function_name + pf_name\n",
    "\n",
    "graph_files = os.listdir(directory_name)\n",
    "graph_files.sort(key=natural_keys)\n",
    "\n",
    "%matplotlib inline\n",
    "\n",
    "label_solid_done = False\n",
    "label_dotted_done = False\n",
    "for graph_file in graph_files:\n",
    "    K, W = get_data_from_file(directory_name + graph_file)\n",
    "    \n",
    "    for w in W.T:\n",
    "        solid_line_condition = np.abs(fv.d_pnn_corr(K, w, pf, width=0).imag) == 0 # <--\n",
    "        not_solid_line_condition = np.invert(solid_line_condition)\n",
    "        \n",
    "        if label_solid_done:\n",
    "            plt.plot(K[solid_line_condition], w[solid_line_condition] ** 2, color='#363636')\n",
    "        else:\n",
    "            plt.plot(K[solid_line_condition], w[solid_line_condition] ** 2, color='#363636')#, label=r'Im $D = 0$')\n",
    "            label_solid_done = True\n",
    "\n",
    "        if label_dotted_done:\n",
    "            plt.plot(K[not_solid_line_condition], w[not_solid_line_condition] ** 2, color='#363636', ls=':')\n",
    "        else:\n",
    "            plt.plot(K[not_solid_line_condition], w[not_solid_line_condition] ** 2, color='#363636', ls=':')# , label=r'Im $D \\ne 0$')\n",
    "            label_dotted_done = True\n",
    "\n",
    "# k_slice = 4\n",
    "k = np.r_[1e-9:5:200j]\n",
    "w = np.r_[1e-9:np.sqrt(10):200j]\n",
    "\n",
    "K, W = np.meshgrid(k, w)\n",
    "\n",
    "plt.contourf(K, W ** 2, np.abs(fv.d_pnn_corr(K, W, pf, width=0).imag) > 0, cmap=cmap_blue, alpha=0.2) # <--\n",
    "\n",
    "# Free branch\n",
    "plt.plot(k, free_branch_vec(k) ** 2, color='red', ls='--', label=r'$\\sqrt{m_\\pi ^ 2 + k ^ 2}$')\n",
    "\n",
    "# Equation slice\n",
    "# plt.axvline(x=k_slice, ls='-.', color='red')\n",
    "plt.axhline(y=0, ls=':', lw=1, color='black')\n",
    "\n",
    "plt.xlim(0, 5)\n",
    "plt.ylim(-1, 7)\n",
    "\n",
    "plt.title(r'$n = %.1f n_0 < n_c$' % n_pf)\n",
    "plt.xlabel(r'$k$ $[m_\\pi]$')\n",
    "plt.ylabel(r'$\\omega ^ 2$ $[m_\\pi^2]$')\n",
    "plt.legend(loc='upper right')\n",
    "\n",
    "plt.savefig('/Users/vladlen/Desktop/slides/figures/eq_pnn_corr_%.2f.jpg' % n_pf, dpi=300, format='jpg', bbox_inches='tight') # <--\n",
    "plt.show()"
   ]
  },
  {
   "cell_type": "markdown",
   "id": "10ece4a1",
   "metadata": {},
   "source": [
    "## $n = 4.3 n_0$"
   ]
  },
  {
   "cell_type": "code",
   "execution_count": 38,
   "id": "78106b05",
   "metadata": {
    "scrolled": true
   },
   "outputs": [
    {
     "data": {
      "application/vnd.jupyter.widget-view+json": {
       "model_id": "68ab303a7245415c84eb697c61a64082",
       "version_major": 2,
       "version_minor": 0
      },
      "text/plain": [
       "Canvas(toolbar=Toolbar(toolitems=[('Home', 'Reset original view', 'home', 'home'), ('Back', 'Back to previous …"
      ]
     },
     "metadata": {},
     "output_type": "display_data"
    }
   ],
   "source": [
    "pf = 3.84\n",
    "n_pf = 2 * pf ** 3 / (3 * np.pi ** 2 * 0.45)\n",
    "pf_name = '%.3f/' % pf\n",
    "graphs_dir = 'graph_data/'\n",
    "function_name = 'eq_pnn_corr/' # <--\n",
    "directory_name = graphs_dir + function_name + pf_name\n",
    "\n",
    "function_name_i = 'eq_pnn_corr_i/' # <--\n",
    "directory_name_i = graphs_dir + function_name_i + pf_name\n",
    "\n",
    "graph_files = os.listdir(directory_name)\n",
    "graph_files.sort(key=natural_keys)\n",
    "\n",
    "graph_files_i = os.listdir(directory_name_i)\n",
    "graph_files_i.sort(key=natural_keys)\n",
    "\n",
    "%matplotlib widget\n",
    "\n",
    "label_solid_done = False\n",
    "label_dotted_done = False\n",
    "for graph_file in graph_files:\n",
    "    K, W = get_data_from_file(directory_name + graph_file)\n",
    "    \n",
    "    for w in W.T:\n",
    "        solid_line_condition = np.abs(fv.d_pnn_corr(K, w, pf, width=0).imag) == 0 # <--\n",
    "        not_solid_line_condition = np.invert(solid_line_condition)\n",
    "        \n",
    "        if label_solid_done:\n",
    "            plt.plot(K[solid_line_condition], w[solid_line_condition] ** 2, color='#363636')\n",
    "        else:\n",
    "            plt.plot(K[solid_line_condition], w[solid_line_condition] ** 2, color='#363636')#, label=r'Im $D = 0$')\n",
    "            label_solid_done = True\n",
    "        \n",
    "        if label_dotted_done:\n",
    "            plt.plot(K[not_solid_line_condition], w[not_solid_line_condition] ** 2, color='#363636', ls=':')\n",
    "        else:\n",
    "            plt.plot(K[not_solid_line_condition], w[not_solid_line_condition] ** 2, color='#363636', ls=':')#, label=r'Im $D \\ne 0$')\n",
    "            label_dotted_done = True\n",
    "\n",
    "label_done = False\n",
    "for graph_file_i in graph_files_i:\n",
    "    K, W = get_data_from_file(directory_name_i + graph_file_i)\n",
    "\n",
    "    for w in W.T:\n",
    "        if label_done:\n",
    "            plt.plot(K, -w ** 2, color='red')\n",
    "        else:\n",
    "            plt.plot(K, -w ** 2, color='red', label=r'$\\omega ^ 2 (k) < 0$')\n",
    "            label_done = True\n",
    "\n",
    "k_slice = 4\n",
    "k = np.r_[1e-9:5:200j]\n",
    "w = np.r_[1e-9:np.sqrt(10):200j]\n",
    "\n",
    "K, W = np.meshgrid(k, w)\n",
    "\n",
    "plt.contourf(K, W ** 2, np.abs(fv.d_pnn_corr(K, W, pf, width=0).imag) > 0, cmap=cmap_blue, alpha=0.2) # <--\n",
    "\n",
    "# Free branch\n",
    "plt.plot(k, free_branch_vec(k) ** 2, color='red', ls='--')#, label=r'$\\sqrt{1 + k ^ 2}$')\n",
    "\n",
    "# Equation slice\n",
    "# plt.axvline(x=k_slice, ls='-.', color='red')\n",
    "plt.axhline(y=0, ls=':', lw=1, color='black')\n",
    "\n",
    "plt.xlim(0, 5)\n",
    "plt.ylim(-1, 7)\n",
    "\n",
    "plt.title(r'$n = %.1f n_0 > n_c$' % n_pf)\n",
    "plt.xlabel(r'$k$ $[m_\\pi]$')\n",
    "plt.ylabel(r'$\\omega ^ 2$ $[m_\\pi^2]$')\n",
    "plt.legend()\n",
    "\n",
    "plt.savefig('/Users/vladlen/Desktop/slides/figures/eq_pnn_corr_%.2f.jpg' % n_pf, dpi=300, format='jpg', bbox_inches='tight') # <--\n",
    "plt.show()"
   ]
  },
  {
   "cell_type": "code",
   "execution_count": null,
   "id": "94f1fa0d",
   "metadata": {},
   "outputs": [],
   "source": []
  }
 ],
 "metadata": {
  "kernelspec": {
   "display_name": "Python 3",
   "language": "python",
   "name": "python3"
  },
  "language_info": {
   "codemirror_mode": {
    "name": "ipython",
    "version": 3
   },
   "file_extension": ".py",
   "mimetype": "text/x-python",
   "name": "python",
   "nbconvert_exporter": "python",
   "pygments_lexer": "ipython3",
   "version": "3.8.10"
  }
 },
 "nbformat": 4,
 "nbformat_minor": 5
}
