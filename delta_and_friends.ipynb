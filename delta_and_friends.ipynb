{
 "cells": [
  {
   "cell_type": "code",
   "execution_count": 49,
   "id": "8e36145d-c575-42fd-b10d-a392d7096784",
   "metadata": {},
   "outputs": [],
   "source": [
    "import numpy as np\n",
    "import matplotlib.pyplot as plt\n",
    "import matplotlib as mpl\n",
    "import matplotlib.ticker as ticker\n",
    "from scipy.integrate import quad, trapezoid\n",
    "\n",
    "import modules_py.functions as f\n",
    "import modules_py.functions_vec as fv\n",
    "\n",
    "pf = 1.88 # n0\n",
    "\n",
    "# mpl.rcParams['figure.dpi'] = 300\n",
    "\n",
    "plt.style.use('./publication23.mplstyle')\n",
    "# plt.rc('text', usetex=True)\n",
    "# plt.rc('font', family='sans')\n",
    "# plt.rc('figure', dpi=300)\n",
    "# plt.style.available"
   ]
  },
  {
   "cell_type": "markdown",
   "id": "ae30f094",
   "metadata": {},
   "source": [
    "## 3. Usual-Integral evaluation\n",
    "\n",
    "$$\n",
    "    (2 \\pi) ^ 3 \\frac{d N}{V d ^ 3 k} = \\frac{2}{\\pi} \\int_0^\\infty \\omega \\Im D\n",
    "    (\\exp \\frac{\\omega}{T} - 1) ^ {-1} d \\omega\n",
    "$$"
   ]
  },
  {
   "cell_type": "code",
   "execution_count": 2,
   "id": "1acf1ff1",
   "metadata": {},
   "outputs": [],
   "source": [
    "width = 0\n",
    "T0 = .5\n",
    "\n",
    "def integrand_pnn_corr(w, k, T, pf):\n",
    "    return 1 / (np.exp(w / T) - 1) * 2 / np.pi * w * \\\n",
    "        f.d_pnn_corr_ff_pnd_corr_ff(k, w, pf, width=0).imag\n",
    "\n",
    "def compare_free_integrand(w, k, T):\n",
    "    return 1 / (np.exp(w / T) - 1) * 2 / np.pi * w * \\\n",
    "        f.d0(k, w, width=1e-3).imag\n",
    "\n",
    "def integrand_pnn_corr_pnd(w, k, T, pf):\n",
    "    return 1 / (np.exp(w / T) - 1) * 2 / np.pi * w * \\\n",
    "        f.d_pnn_corr_pnd(k, w, pf, width=width).imag\n",
    "\n",
    "def compare_free_no_integral(k, T):\n",
    "    return 1 / (np.exp(f.w0(k) / T) - 1)\n",
    "compare_free_no_integral_vec = np.vectorize(compare_free_no_integral, excluded=['T'])"
   ]
  },
  {
   "cell_type": "code",
   "execution_count": 3,
   "id": "70b15c2c",
   "metadata": {},
   "outputs": [
    {
     "name": "stderr",
     "output_type": "stream",
     "text": [
      "<ipython-input-3-53c951766853>:15: IntegrationWarning: The integral is probably divergent, or slowly convergent.\n",
      "  quad(compare_free_integrand, 1e-9, 8, args=(k, T0))\n"
     ]
    }
   ],
   "source": [
    "number_of_points = 100\n",
    "K = np.r_[1e-9:5:number_of_points * 1j]\n",
    "\n",
    "# integral_values_pnn_corr = np.empty(number_of_points)\n",
    "error_values_pnn_corr = np.empty(number_of_points)\n",
    "\n",
    "compare_integral_values_free = np.empty(number_of_points)\n",
    "compare_error_values_free = np.empty(number_of_points)\n",
    "\n",
    "for i, k in enumerate(K):\n",
    "#     integral_values_pnn_corr[i], error_values_pnn_corr[i] = \\\n",
    "#         quad(integrand_pnn_corr, 1e-9, 8, args=(k, T0, pf))\n",
    "    \n",
    "    compare_integral_values_free[i], compare_error_values_free[i] = \\\n",
    "        quad(compare_free_integrand, 1e-9, 8, args=(k, T0))"
   ]
  },
  {
   "cell_type": "code",
   "execution_count": 4,
   "id": "4ee9385d",
   "metadata": {},
   "outputs": [],
   "source": [
    "# width = 1e-3\n",
    "\n",
    "\n",
    "# integral_values_pnn_corr_full = np.empty(number_of_points)\n",
    "# for i, k in enumerate(K):\n",
    "#     integral_values_pnn_corr_full[i], _ = quad(integrand_pnn_corr, 1e-9, 7, args=(k, T0, pf))"
   ]
  },
  {
   "cell_type": "code",
   "execution_count": 5,
   "id": "2e75f41f",
   "metadata": {},
   "outputs": [],
   "source": [
    "def get_data_from_file(filename):\n",
    "    data = np.genfromtxt(filename)\n",
    "    if data.ndim == 1:\n",
    "        return np.array([data[0]]), np.array([data[1:]])\n",
    "    else:\n",
    "        return data[:, 0], data[:, 1:]\n",
    "\n",
    "import re\n",
    "def atoi(text):\n",
    "    return int(text) if text.isdigit() else text\n",
    "def natural_keys(text):\n",
    "    return [ atoi(c) for c in re.split(r'(\\d+)', text) ]"
   ]
  },
  {
   "cell_type": "code",
   "execution_count": 6,
   "id": "00887745",
   "metadata": {},
   "outputs": [
    {
     "name": "stderr",
     "output_type": "stream",
     "text": [
      "<ipython-input-6-6d66a77e413c>:20: IntegrationWarning: The maximum number of subdivisions (50) has been achieved.\n",
      "  If increasing the limit yields no improvement it is advised to analyze \n",
      "  the integrand in order to determine the difficulties.  If the position of a \n",
      "  local difficulty can be determined (singularity, discontinuity) one will \n",
      "  probably gain from splitting up the interval and calling the integrator \n",
      "  on the subranges.  Perhaps a special-purpose integrator should be used.\n",
      "  integral_values_pnn_corr_tmp, _ = quad(integrand_pnn_corr, 1e-9, 8, args=(k, T0, pf))\n"
     ]
    }
   ],
   "source": [
    "# Calculate sum here\n",
    "import os\n",
    "\n",
    "name_directory = 'graph_data/'\n",
    "name_function = 'unity_eq_pnn_corr_ff_pnd_corr_ff/'\n",
    "name_pf = '1.880/'\n",
    "name_folder_with_data = name_directory + name_function + name_pf\n",
    "filenames = os.listdir(name_folder_with_data)\n",
    "filenames.sort(key=natural_keys)\n",
    "\n",
    "k_sum_values = np.array([])\n",
    "sum_values = np.array([])\n",
    "\n",
    "integral_values_pnn_corr = np.array([])\n",
    "\n",
    "for filename in filenames:\n",
    "    K_local, W_local = get_data_from_file(name_folder_with_data + filename)\n",
    "    \n",
    "    for i, k in enumerate(K_local):\n",
    "        integral_values_pnn_corr_tmp, _ = quad(integrand_pnn_corr, 1e-9, 8, args=(k, T0, pf))\n",
    "        \n",
    "        sum_value = 0\n",
    "        \n",
    "        for w in W_local[i, :]:\n",
    "#             print(np.abs(f.d_pnn_corr_ff_pnd_corr_ff(k, w, pf).imag))\n",
    "            if np.abs(f.d_pnn_corr_ff_pnd_corr_ff(k, w, pf, width=0).imag) == 0:\n",
    "                sum_value += 2 * w / (2 * w - \\\n",
    "                    f.pi_pnn_corr_ff_pnd_corr_ff_dw(k, w, pf)) / (np.exp(w / T0) - 1)\n",
    "    \n",
    "        sum_values = np.append(sum_values, sum_value)\n",
    "        k_sum_values = np.append(k_sum_values, k)\n",
    "        integral_values_pnn_corr = np.append(integral_values_pnn_corr, integral_values_pnn_corr_tmp)\n",
    "\n",
    "K = k_sum_values\n",
    "# sum_values_interpolated = np.interp(K, k_sum_values, sum_values)"
   ]
  },
  {
   "cell_type": "code",
   "execution_count": 7,
   "id": "0eafbda8",
   "metadata": {},
   "outputs": [
    {
     "name": "stderr",
     "output_type": "stream",
     "text": [
      "/Users/vladlen/anaconda3/lib/python3.8/site-packages/numpy/core/_asarray.py:102: ComplexWarning: Casting complex values to real discards the imaginary part\n",
      "  return array(a, dtype, copy=False, order=order)\n",
      "/Users/vladlen/anaconda3/lib/python3.8/site-packages/numpy/core/_asarray.py:102: ComplexWarning: Casting complex values to real discards the imaginary part\n",
      "  return array(a, dtype, copy=False, order=order)\n"
     ]
    },
    {
     "data": {
      "image/png": "[encoded data removed]",
      "text/plain": [
       "<Figure size 432x288 with 1 Axes>"
      ]
     },
     "metadata": {
      "needs_background": "light"
     },
     "output_type": "display_data"
    }
   ],
   "source": [
    "%matplotlib inline\n",
    "\n",
    "# plt.plot(K, integral_values_pnn_corr_full, label='art. width = 0.1', color='green')\n",
    "# plt.plot(K, error_values_pnn_corr, label='error')\n",
    "\n",
    "# plt.plot(K, sum_values_interpolated + integral_values_pnn_corr, label='sum + integral', color='red')\n",
    "plt.plot(K, sum_values + integral_values_pnn_corr, label='sum + integral', color='red')\n",
    "plt.plot(K, integral_values_pnn_corr, label='integral', color='blue', ls='dotted')\n",
    "plt.plot(K, compare_free_no_integral_vec(K, T0), label='free', color='#363636')\n",
    "plt.plot(k_sum_values, sum_values, label='sum', color='green', ls='dashed')\n",
    "\n",
    "# plt.plot(K, compare_integral_values_free, label='free', color='#363636', ls='dotted')\n",
    "# plt.plot(K, compare_free_no_integral_vec(K, T), color='#363636', ls='dashed')\n",
    "\n",
    "plt.title(r'$n = %.1f n_0$' % f.n(pf))\n",
    "plt.xlabel(r'$k$ $[m_\\pi]$')\n",
    "plt.ylabel(r'$f_\\pi$')\n",
    "plt.legend(frameon=False)\n",
    "\n",
    "plt.savefig('/Users/vladlen/sp/figures/thermodynamics/distribution_by_k_%.2f.jpg' % f.n(pf), dpi=300, format='JPG', bbox_inches='tight')\n",
    "plt.savefig('/Users/vladlen/sp/figures/thermodynamics/distribution_by_k_%.2f.pdf' % f.n(pf), dpi=300, format='PDF', bbox_inches='tight')\n",
    "plt.show()\n",
    "\n",
    "# Стоит показать эту картинку в начале диплома, чтобы продемонстрировать важность учёта мнимой части"
   ]
  },
  {
   "cell_type": "markdown",
   "id": "57a795af",
   "metadata": {},
   "source": [
    "## 4. Integral over $k$\n",
    "\n",
    "We now have \n",
    "$\n",
    "    f_\\pi (k) = \\int_0^\\infty \\frac{d \\omega}{\\pi}\n",
    "    \\frac{2 \\omega \\Im D (\\omega, k)}{\\exp \\frac{\\omega}{T} - 1}\n",
    "$\n",
    ".\n",
    "Next step is to integrate \n",
    "$$\n",
    "    n_\\pi (T) = 3 \\int_0^\\infty \\frac{k ^ 2 dk}{2 \\pi ^ 2} f_\\pi (k).\n",
    "$$\n",
    "Это число частиц в среде (как будто детектор в среде).\n"
   ]
  },
  {
   "cell_type": "code",
   "execution_count": 35,
   "id": "3354abd2",
   "metadata": {},
   "outputs": [
    {
     "name": "stdout",
     "output_type": "stream",
     "text": [
      "0\n"
     ]
    },
    {
     "name": "stderr",
     "output_type": "stream",
     "text": [
      "<ipython-input-35-9d32425d9b7b>:6: RuntimeWarning: overflow encountered in exp\n",
      "  return 3 * k ** 2 / (2 * np.pi ** 2) / (np.exp(w / t) - 1) * 2 / np.pi * w * \\\n"
     ]
    },
    {
     "name": "stdout",
     "output_type": "stream",
     "text": [
      "1\n"
     ]
    },
    {
     "name": "stderr",
     "output_type": "stream",
     "text": [
      "/Users/vladlen/anaconda3/lib/python3.8/site-packages/scipy/integrate/quadpack.py:879: IntegrationWarning: The integral is probably divergent, or slowly convergent.\n",
      "  quad_r = quad(f, low, high, args=args, full_output=self.full_output,\n"
     ]
    },
    {
     "name": "stdout",
     "output_type": "stream",
     "text": [
      "2\n"
     ]
    },
    {
     "name": "stderr",
     "output_type": "stream",
     "text": [
      "/Users/vladlen/anaconda3/lib/python3.8/site-packages/scipy/integrate/quadpack.py:879: IntegrationWarning: The maximum number of subdivisions (50) has been achieved.\n",
      "  If increasing the limit yields no improvement it is advised to analyze \n",
      "  the integrand in order to determine the difficulties.  If the position of a \n",
      "  local difficulty can be determined (singularity, discontinuity) one will \n",
      "  probably gain from splitting up the interval and calling the integrator \n",
      "  on the subranges.  Perhaps a special-purpose integrator should be used.\n",
      "  quad_r = quad(f, low, high, args=args, full_output=self.full_output,\n"
     ]
    },
    {
     "name": "stdout",
     "output_type": "stream",
     "text": [
      "3\n"
     ]
    },
    {
     "name": "stderr",
     "output_type": "stream",
     "text": [
      "/Users/vladlen/anaconda3/lib/python3.8/site-packages/scipy/integrate/quadpack.py:879: IntegrationWarning: The algorithm does not converge.  Roundoff error is detected\n",
      "  in the extrapolation table.  It is assumed that the requested tolerance\n",
      "  cannot be achieved, and that the returned result (if full_output = 1) is \n",
      "  the best which can be obtained.\n",
      "  quad_r = quad(f, low, high, args=args, full_output=self.full_output,\n"
     ]
    },
    {
     "name": "stdout",
     "output_type": "stream",
     "text": [
      "4\n",
      "5\n",
      "6\n",
      "7\n",
      "8\n",
      "9\n",
      "10\n",
      "11\n",
      "12\n",
      "13\n",
      "14\n",
      "15\n",
      "16\n",
      "17\n",
      "18\n",
      "19\n"
     ]
    }
   ],
   "source": [
    "from scipy.integrate import dblquad\n",
    "\n",
    "pf_06 = 1.59\n",
    "\n",
    "def integrand_t(w, k, t, pf):\n",
    "    return 3 * k ** 2 / (2 * np.pi ** 2) / (np.exp(w / t) - 1) * 2 / np.pi * w * \\\n",
    "        f.d_pnn_corr_ff_pnd_corr_ff(k, w, pf, width=1e-3).imag\n",
    "\n",
    "number_of_points_t_06 = 20\n",
    "T_06 = np.r_[1e-2:2:number_of_points_t_06 * 1j]\n",
    "\n",
    "integral_values_t_06 = np.empty(number_of_points_t_06)\n",
    "\n",
    "for i, t in enumerate(T_06):\n",
    "    print(i)\n",
    "    integral_values_t_06[i], _ = dblquad(integrand_t, 1e-9, np.inf, 1e-9, np.inf, args=(t, pf_06))"
   ]
  },
  {
   "cell_type": "code",
   "execution_count": 11,
   "id": "533ff2b9",
   "metadata": {},
   "outputs": [
    {
     "name": "stdout",
     "output_type": "stream",
     "text": [
      "0\n"
     ]
    },
    {
     "name": "stderr",
     "output_type": "stream",
     "text": [
      "<ipython-input-11-7cb2f7f3dfb1>:4: RuntimeWarning: overflow encountered in exp\n",
      "  return 3 * k ** 2 / (2 * np.pi ** 2) / (np.exp(w / t) - 1) * 2 / np.pi * w * \\\n"
     ]
    },
    {
     "name": "stdout",
     "output_type": "stream",
     "text": [
      "1\n"
     ]
    },
    {
     "name": "stderr",
     "output_type": "stream",
     "text": [
      "/Users/vladlen/anaconda3/lib/python3.8/site-packages/scipy/integrate/quadpack.py:879: IntegrationWarning: The integral is probably divergent, or slowly convergent.\n",
      "  quad_r = quad(f, low, high, args=args, full_output=self.full_output,\n"
     ]
    },
    {
     "name": "stdout",
     "output_type": "stream",
     "text": [
      "2\n"
     ]
    },
    {
     "name": "stderr",
     "output_type": "stream",
     "text": [
      "/Users/vladlen/anaconda3/lib/python3.8/site-packages/scipy/integrate/quadpack.py:879: IntegrationWarning: The maximum number of subdivisions (50) has been achieved.\n",
      "  If increasing the limit yields no improvement it is advised to analyze \n",
      "  the integrand in order to determine the difficulties.  If the position of a \n",
      "  local difficulty can be determined (singularity, discontinuity) one will \n",
      "  probably gain from splitting up the interval and calling the integrator \n",
      "  on the subranges.  Perhaps a special-purpose integrator should be used.\n",
      "  quad_r = quad(f, low, high, args=args, full_output=self.full_output,\n"
     ]
    },
    {
     "name": "stdout",
     "output_type": "stream",
     "text": [
      "3\n"
     ]
    },
    {
     "name": "stderr",
     "output_type": "stream",
     "text": [
      "/Users/vladlen/anaconda3/lib/python3.8/site-packages/scipy/integrate/quadpack.py:879: IntegrationWarning: The algorithm does not converge.  Roundoff error is detected\n",
      "  in the extrapolation table.  It is assumed that the requested tolerance\n",
      "  cannot be achieved, and that the returned result (if full_output = 1) is \n",
      "  the best which can be obtained.\n",
      "  quad_r = quad(f, low, high, args=args, full_output=self.full_output,\n"
     ]
    },
    {
     "name": "stdout",
     "output_type": "stream",
     "text": [
      "4\n",
      "5\n",
      "6\n",
      "7\n",
      "8\n",
      "9\n",
      "10\n",
      "11\n",
      "12\n",
      "13\n",
      "14\n",
      "15\n",
      "16\n",
      "17\n",
      "18\n",
      "19\n"
     ]
    }
   ],
   "source": [
    "from scipy.integrate import dblquad\n",
    "\n",
    "def integrand_t(w, k, t, pf):\n",
    "    return 3 * k ** 2 / (2 * np.pi ** 2) / (np.exp(w / t) - 1) * 2 / np.pi * w * \\\n",
    "        f.d_pnn_corr_ff_pnd_corr_ff(k, w, pf, width=1e-3).imag\n",
    "\n",
    "number_of_points_t = 20\n",
    "T = np.r_[1e-2:2:number_of_points_t * 1j]\n",
    "\n",
    "integral_values_t = np.empty(number_of_points_t)\n",
    "\n",
    "for i, t in enumerate(T):\n",
    "    print(i)\n",
    "    integral_values_t[i], _ = dblquad(integrand_t, 1e-9, np.inf, 1e-9, np.inf, args=(t, pf))"
   ]
  },
  {
   "cell_type": "code",
   "execution_count": 12,
   "id": "e0379ed6",
   "metadata": {},
   "outputs": [
    {
     "name": "stderr",
     "output_type": "stream",
     "text": [
      "<ipython-input-2-a75adf5cf28f>:17: RuntimeWarning: overflow encountered in exp\n",
      "  return 1 / (np.exp(f.w0(k) / T) - 1)\n"
     ]
    }
   ],
   "source": [
    "from scipy.integrate import dblquad\n",
    "\n",
    "number_of_points_t_ = 100\n",
    "\n",
    "T_free = np.r_[1e-2:2:number_of_points_t_ * 1j]\n",
    "\n",
    "def integrand_t_free(k, T):\n",
    "    return 3 * k ** 2 / (2 * np.pi ** 2) * compare_free_no_integral(k, T)\n",
    "\n",
    "integral_values_t_free = np.empty(number_of_points_t_)\n",
    "\n",
    "for i, t in enumerate(T_free):\n",
    "    integral_values_t_free[i], error = quad(integrand_t_free, 1e-9, np.inf, args=(t))"
   ]
  },
  {
   "cell_type": "code",
   "execution_count": 37,
   "id": "3d389afa",
   "metadata": {},
   "outputs": [
    {
     "data": {
      "image/png": "[encoded data removed]",
      "text/plain": [
       "<Figure size 432x288 with 1 Axes>"
      ]
     },
     "metadata": {
      "needs_background": "light"
     },
     "output_type": "display_data"
    }
   ],
   "source": [
    "%matplotlib inline\n",
    "\n",
    "plt.plot(T, integral_values_t, color='red', label=r'in medium')\n",
    "plt.plot(T_free, integral_values_t_free, color='#363636', label='free', ls='--')\n",
    "\n",
    "plt.xlim(0, 1.5)\n",
    "plt.ylim(0, 1.3)\n",
    "\n",
    "plt.title(r'$n = %.1f n_0$' % f.n(pf))\n",
    "plt.xlabel(r'$T$ $[m_\\pi]$')\n",
    "plt.ylabel(r'$n_\\pi$ $[m_\\pi ^ 3]$')\n",
    "plt.legend()\n",
    "\n",
    "plt.savefig('/Users/vladlen/sp/figures/thermodynamics/distribution_total_%.2f.jpg' % f.n(pf), dpi=300, format='JPG', bbox_inches='tight')\n",
    "plt.savefig('/Users/vladlen/sp/figures/thermodynamics/distribution_total_%.2f.pdf' % f.n(pf), dpi=300, format='PDF', bbox_inches='tight')\n",
    "plt.show()"
   ]
  },
  {
   "cell_type": "code",
   "execution_count": 47,
   "id": "bd0d4c21",
   "metadata": {},
   "outputs": [
    {
     "data": {
      "image/png": "[encoded data removed]",
      "text/plain": [
       "<Figure size 432x288 with 1 Axes>"
      ]
     },
     "metadata": {
      "needs_background": "light"
     },
     "output_type": "display_data"
    }
   ],
   "source": [
    "# n_medium / n_free relation\n",
    "\n",
    "%matplotlib inline\n",
    "\n",
    "T_smooth = np.r_[0:1.5:100j]\n",
    "\n",
    "integral_values_t_06_interpolated = np.interp(T_smooth, T_06, integral_values_t_06)\n",
    "integral_values_t_free_interpolated = np.interp(T_smooth, T_free, integral_values_t_free)\n",
    "integral_values_t_interpolated = np.interp(T_smooth, T, integral_values_t)\n",
    "\n",
    "plt.ylim(0, 30)\n",
    "plt.xlim(0, 1.5)\n",
    "\n",
    "# plt.title(r'$n = %.1f n_0$' % f.n(pf))\n",
    "plt.xlabel(r'$T$ $[m_\\pi]$')\n",
    "plt.ylabel(r'$n_\\pi / n_\\pi^{free}$')\n",
    "\n",
    "plt.plot(T_smooth, integral_values_t_interpolated / integral_values_t_free_interpolated, color='#363636', label=r'$n = 1.0 n_0$')\n",
    "plt.plot(T_smooth, integral_values_t_06_interpolated / integral_values_t_free_interpolated, color='red', label=r'$n = 0.6 n_0$', ls='--')\n",
    "\n",
    "plt.legend(frameon=False)\n",
    "\n",
    "plt.savefig('figures/thermodynamics/n_med_to_n_free_n1.0_0.6.pdf', dpi=300, format='PDF', bbox_inches='tight')\n",
    "plt.savefig('figures/thermodynamics/n_med_to_n_free_n1.0_0.6.jpg', dpi=300, format='JPG', bbox_inches='tight')\n",
    "plt.show()"
   ]
  },
  {
   "cell_type": "code",
   "execution_count": 38,
   "id": "757ef5eb",
   "metadata": {},
   "outputs": [],
   "source": [
    "np.save('graph_data/integral_values_t_06.npy', integral_values_t_06)\n",
    "np.save('graph_data/integral_values_t.npy', integral_values_t)"
   ]
  },
  {
   "cell_type": "code",
   "execution_count": null,
   "id": "1adbefba",
   "metadata": {},
   "outputs": [],
   "source": []
  }
 ],
 "metadata": {
  "kernelspec": {
   "display_name": "Python 3",
   "language": "python",
   "name": "python3"
  },
  "language_info": {
   "codemirror_mode": {
    "name": "ipython",
    "version": 3
   },
   "file_extension": ".py",
   "mimetype": "text/x-python",
   "name": "python",
   "nbconvert_exporter": "python",
   "pygments_lexer": "ipython3",
   "version": "3.8.10"
  }
 },
 "nbformat": 4,
 "nbformat_minor": 5
}
