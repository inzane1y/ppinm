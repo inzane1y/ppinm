{
 "cells": [
  {
   "cell_type": "code",
   "execution_count": 1,
   "id": "7d2c7e03",
   "metadata": {},
   "outputs": [],
   "source": [
    "import matplotlib.pyplot as plt\n",
    "import numpy as np\n",
    "import os\n",
    "\n",
    "import modules_py.functions as f\n",
    "import modules_py.functions_vec as fv\n",
    "\n",
    "plt.style.use('publication23.mplstyle')"
   ]
  },
  {
   "cell_type": "code",
   "execution_count": 2,
   "id": "bb562789",
   "metadata": {},
   "outputs": [],
   "source": [
    "from matplotlib.colors import ListedColormap\n",
    "\n",
    "cmap_pi_pnn = ListedColormap(['#ffffff00', '#a1ae25']) # Green\n",
    "cmap_pi_pnd = ListedColormap(['#ffffff00', '#ec4f43']) # Red\n",
    "cmap_pi_pnn_corr = ListedColormap(['#ffffff00', '#0960BD']) # Blue\n",
    "cmap_pi_pnd_corr = ListedColormap(['#ffffff00', '#F6C90E']) # Yellow"
   ]
  },
  {
   "cell_type": "code",
   "execution_count": 3,
   "id": "2d0575af",
   "metadata": {},
   "outputs": [],
   "source": [
    "def get_data_from_file(filename):\n",
    "    '''Data getter.'''\n",
    "    data = np.genfromtxt(filename)\n",
    "    if data.ndim == 1:\n",
    "        return np.array([data[0]]), np.array([data[1:]])\n",
    "    else:\n",
    "        return data[:, 0], data[:, 1:]\n",
    "\n",
    "# Sorting key\n",
    "import re\n",
    "def atoi(text):\n",
    "    '''Turns text to numbers.'''\n",
    "    return int(text) if text.isdigit() else text\n",
    "def natural_keys(text):\n",
    "    '''Keys for intuitive string sorting.'''\n",
    "    return [ atoi(c) for c in re.split(r'(\\d+)', text) ]"
   ]
  },
  {
   "cell_type": "code",
   "execution_count": 8,
   "id": "71fa6bb6",
   "metadata": {},
   "outputs": [],
   "source": [
    "pf = 1.52\n",
    "n_pf = 2 * pf ** 3 / (3 * np.pi ** 2 * 0.47)\n",
    "pf_name = '%.3f/' % pf\n",
    "graphs_dir = 'graph_data/'\n",
    "function_name = '_unity_eq_pnn_corr_pnd/'\n",
    "directory_name = graphs_dir + function_name + pf_name\n",
    "\n",
    "graph_files = os.listdir(directory_name)\n",
    "graph_files.sort(key=natural_keys)"
   ]
  },
  {
   "cell_type": "code",
   "execution_count": 9,
   "id": "58a130c4",
   "metadata": {},
   "outputs": [
    {
     "data": {
      "application/vnd.jupyter.widget-view+json": {
       "model_id": "9d2738cb371f4e0ba57358bdb5f7b811",
       "version_major": 2,
       "version_minor": 0
      },
      "text/plain": [
       "Canvas(toolbar=Toolbar(toolitems=[('Home', 'Reset original view', 'home', 'home'), ('Back', 'Back to previous …"
      ]
     },
     "metadata": {},
     "output_type": "display_data"
    }
   ],
   "source": [
    "%matplotlib widget\n",
    "\n",
    "label_done = False\n",
    "for graph_file in graph_files:\n",
    "    K, W = get_data_from_file(directory_name + graph_file)\n",
    "    \n",
    "    for w in W.T:\n",
    "        solid_line_condition = np.abs(fv.d_pnn_corr_pnd(K, w, pf, width=0).imag) == 0\n",
    "        not_solid_line_condition = np.invert(solid_line_condition)\n",
    "        \n",
    "        if label_done:\n",
    "            plt.plot(K[solid_line_condition], w[solid_line_condition], color='#363636')\n",
    "        else:\n",
    "            plt.plot(K[solid_line_condition], w[solid_line_condition], color='#363636')#, label=r'$\\omega (k)$')\n",
    "            label_done = True\n",
    "        \n",
    "        plt.plot(K[not_solid_line_condition], w[not_solid_line_condition], color='#363636', ls=':')\n",
    "\n",
    "K, W = np.meshgrid(np.r_[1e-9:5:200j], np.r_[1e-9:6:200j])\n",
    "\n",
    "plt.contourf(K, W, np.abs(fv.d_pnn_corr_pnd(K, W, pf, width=0).imag) > 0, cmap=cmap_pi_pnn_corr, alpha=0.2)\n",
    "        \n",
    "plt.title(r'$n = %.2f n_0$' % n_pf)\n",
    "plt.xlabel(r'$k$')\n",
    "plt.ylabel(r'$\\omega$')\n",
    "# plt.legend()\n",
    "plt.savefig('figures/_eq_pnn_corr_pnd_corr_%3.2f.jpg' % n_pf, dpi=300, format='JPG', bbox_inches='tight')\n",
    "plt.show()"
   ]
  },
  {
   "cell_type": "code",
   "execution_count": null,
   "id": "a91f591f",
   "metadata": {},
   "outputs": [],
   "source": []
  },
  {
   "cell_type": "code",
   "execution_count": null,
   "id": "49c2af52",
   "metadata": {},
   "outputs": [],
   "source": []
  }
 ],
 "metadata": {
  "kernelspec": {
   "display_name": "Python 3",
   "language": "python",
   "name": "python3"
  },
  "language_info": {
   "codemirror_mode": {
    "name": "ipython",
    "version": 3
   },
   "file_extension": ".py",
   "mimetype": "text/x-python",
   "name": "python",
   "nbconvert_exporter": "python",
   "pygments_lexer": "ipython3",
   "version": "3.8.10"
  }
 },
 "nbformat": 4,
 "nbformat_minor": 5
}
