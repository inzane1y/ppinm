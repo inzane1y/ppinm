{
 "cells": [
  {
   "cell_type": "markdown",
   "id": "77a734c0-7046-42b6-ac84-704ad8837edc",
   "metadata": {},
   "source": [
    "# Unity check"
   ]
  },
  {
   "cell_type": "code",
   "execution_count": 19,
   "id": "2191f266-be5f-4395-8df8-80be875c53f9",
   "metadata": {},
   "outputs": [],
   "source": [
    "# Main modules\n",
    "import numpy as np\n",
    "import matplotlib.pyplot as plt\n",
    "import os\n",
    "plt.style.use('publication23.mplstyle')\n",
    "\n",
    "# Integration\n",
    "from scipy.integrate import quad\n",
    "\n",
    "# Custom modules\n",
    "import modules_py.functions as f"
   ]
  },
  {
   "cell_type": "code",
   "execution_count": 14,
   "id": "f9d4acff-aa40-4f53-9001-ee68eafbfebe",
   "metadata": {},
   "outputs": [],
   "source": [
    "# data_getter\n",
    "\n",
    "def get_data_from_file(filename):\n",
    "    data = np.genfromtxt(filename)\n",
    "    if data.ndim == 1:\n",
    "        return np.array([data[0]]), np.array([data[1:]])\n",
    "    else:\n",
    "        return data[:, 0], data[:, 1:]"
   ]
  },
  {
   "cell_type": "code",
   "execution_count": 25,
   "id": "6ba0bd75-1dd1-4fc3-891b-a86a592d53a7",
   "metadata": {},
   "outputs": [],
   "source": [
    "def integrand(w, k, pf):\n",
    "    return 2 / np.pi * w * f.d_pnn_corr_pnd(k, w, pf, width=0).imag\n",
    "\n",
    "pf = '1.520'\n",
    "graphs_dir = 'graph_data/'\n",
    "function_name = 'unity_eq_pnn_corr_pnd_legacy'\n",
    "\n",
    "graph_files = os.listdir(graphs_dir + function_name + '/' + pf)"
   ]
  },
  {
   "cell_type": "code",
   "execution_count": 16,
   "id": "96b44039-9fab-4ad7-93fb-6beb9178a4b3",
   "metadata": {},
   "outputs": [
    {
     "name": "stderr",
     "output_type": "stream",
     "text": [
      "<ipython-input-16-78987ccc56b6>:20: IntegrationWarning: The maximum number of subdivisions (50) has been achieved.\n",
      "  If increasing the limit yields no improvement it is advised to analyze \n",
      "  the integrand in order to determine the difficulties.  If the position of a \n",
      "  local difficulty can be determined (singularity, discontinuity) one will \n",
      "  probably gain from splitting up the interval and calling the integrator \n",
      "  on the subranges.  Perhaps a special-purpose integrator should be used.\n",
      "  integral_value, _ = quad(integrand, 1e-9, 20, args=(k, float(pf)))\n",
      "<ipython-input-16-78987ccc56b6>:20: IntegrationWarning: The occurrence of roundoff error is detected, which prevents \n",
      "  the requested tolerance from being achieved.  The error may be \n",
      "  underestimated.\n",
      "  integral_value, _ = quad(integrand, 1e-9, 20, args=(k, float(pf)))\n"
     ]
    }
   ],
   "source": [
    "k_integral_values = []\n",
    "integral_values = []\n",
    "\n",
    "contribution_integral = []\n",
    "contribution_sum = []\n",
    "\n",
    "for graph_file in graph_files:\n",
    "    k_integral_values_for_file = np.array([])\n",
    "    integral_values_for_file = np.array([])\n",
    "    \n",
    "    contribution_integral_for_file = np.array([])\n",
    "    contribution_sum_for_file = np.array([])\n",
    "    \n",
    "    filename = graphs_dir + function_name + '/' + pf + '/' + graph_file\n",
    "    \n",
    "    K, W = get_data_from_file(filename)\n",
    "    \n",
    "    for i, k in enumerate(K):\n",
    "        # Учесть вклад от интеграла\n",
    "        integral_value, _ = quad(integrand, 1e-9, 20, args=(k, float(pf)))\n",
    "        contribution_integral_for_file = np.append(contribution_integral_for_file, integral_value)\n",
    "        \n",
    "        # Учесть вклад от суммы\n",
    "        sum_tmp = 0.\n",
    "        for w in W[i, :]:\n",
    "            if np.abs(f.d_pnn_corr_pnd(k, w, float(pf), width=0).imag) < 1e-5:\n",
    "                sum_tmp += 2. * w / (2. * w - f.pi_pnn_corr_pnd_dw(k, w, float(pf)))\n",
    "        contribution_sum_for_file = np.append(contribution_sum_for_file, sum_tmp)\n",
    "        \n",
    "        integral_value += sum_tmp\n",
    "        \n",
    "        integral_values_for_file = np.r_[integral_values_for_file, integral_value]\n",
    "        k_integral_values_for_file = np.r_[k_integral_values_for_file, k]\n",
    "        \n",
    "    integral_values.append(integral_values_for_file)\n",
    "    k_integral_values.append(k_integral_values_for_file)\n",
    "    \n",
    "    contribution_integral.append(contribution_integral_for_file)\n",
    "    contribution_sum.append(contribution_sum_for_file)"
   ]
  },
  {
   "cell_type": "code",
   "execution_count": 26,
   "id": "ec05a0ec-b03b-4409-a5d5-62bb2fa923b1",
   "metadata": {},
   "outputs": [
    {
     "name": "stderr",
     "output_type": "stream",
     "text": [
      "/Users/vladlen/anaconda3/lib/python3.8/site-packages/numpy/core/_asarray.py:102: ComplexWarning: Casting complex values to real discards the imaginary part\n",
      "  return array(a, dtype, copy=False, order=order)\n",
      "/Users/vladlen/anaconda3/lib/python3.8/site-packages/numpy/core/_asarray.py:102: ComplexWarning: Casting complex values to real discards the imaginary part\n",
      "  return array(a, dtype, copy=False, order=order)\n",
      "/Users/vladlen/anaconda3/lib/python3.8/site-packages/numpy/core/_asarray.py:102: ComplexWarning: Casting complex values to real discards the imaginary part\n",
      "  return array(a, dtype, copy=False, order=order)\n",
      "/Users/vladlen/anaconda3/lib/python3.8/site-packages/numpy/core/_asarray.py:102: ComplexWarning: Casting complex values to real discards the imaginary part\n",
      "  return array(a, dtype, copy=False, order=order)\n",
      "/Users/vladlen/anaconda3/lib/python3.8/site-packages/numpy/core/_asarray.py:102: ComplexWarning: Casting complex values to real discards the imaginary part\n",
      "  return array(a, dtype, copy=False, order=order)\n",
      "/Users/vladlen/anaconda3/lib/python3.8/site-packages/numpy/core/_asarray.py:102: ComplexWarning: Casting complex values to real discards the imaginary part\n",
      "  return array(a, dtype, copy=False, order=order)\n",
      "/Users/vladlen/anaconda3/lib/python3.8/site-packages/numpy/core/_asarray.py:102: ComplexWarning: Casting complex values to real discards the imaginary part\n",
      "  return array(a, dtype, copy=False, order=order)\n",
      "/Users/vladlen/anaconda3/lib/python3.8/site-packages/numpy/core/_asarray.py:102: ComplexWarning: Casting complex values to real discards the imaginary part\n",
      "  return array(a, dtype, copy=False, order=order)\n",
      "/Users/vladlen/anaconda3/lib/python3.8/site-packages/numpy/core/_asarray.py:102: ComplexWarning: Casting complex values to real discards the imaginary part\n",
      "  return array(a, dtype, copy=False, order=order)\n",
      "/Users/vladlen/anaconda3/lib/python3.8/site-packages/numpy/core/_asarray.py:102: ComplexWarning: Casting complex values to real discards the imaginary part\n",
      "  return array(a, dtype, copy=False, order=order)\n",
      "/Users/vladlen/anaconda3/lib/python3.8/site-packages/numpy/core/_asarray.py:102: ComplexWarning: Casting complex values to real discards the imaginary part\n",
      "  return array(a, dtype, copy=False, order=order)\n",
      "/Users/vladlen/anaconda3/lib/python3.8/site-packages/numpy/core/_asarray.py:102: ComplexWarning: Casting complex values to real discards the imaginary part\n",
      "  return array(a, dtype, copy=False, order=order)\n",
      "/Users/vladlen/anaconda3/lib/python3.8/site-packages/numpy/core/_asarray.py:102: ComplexWarning: Casting complex values to real discards the imaginary part\n",
      "  return array(a, dtype, copy=False, order=order)\n",
      "/Users/vladlen/anaconda3/lib/python3.8/site-packages/numpy/core/_asarray.py:102: ComplexWarning: Casting complex values to real discards the imaginary part\n",
      "  return array(a, dtype, copy=False, order=order)\n"
     ]
    },
    {
     "data": {
      "image/png": "[encoded data removed]",
      "text/plain": [
       "<Figure size 432x288 with 1 Axes>"
      ]
     },
     "metadata": {
      "needs_background": "light"
     },
     "output_type": "display_data"
    }
   ],
   "source": [
    "%matplotlib inline\n",
    "\n",
    "# print(k_integral_values.size)\n",
    "# print(integral_values.size)\n",
    "\n",
    "# print(contribution_integral)\n",
    "# print(contribution_sum)\n",
    "\n",
    "label_done = False\n",
    "for k, i in zip(k_integral_values, integral_values):\n",
    "    if label_done:\n",
    "        plt.plot(k, i, color='#363636')\n",
    "    else:\n",
    "        plt.plot(k, i, color='#363636', label='full')\n",
    "        label_done = True\n",
    "\n",
    "label_done = False\n",
    "for k, c_i in zip(k_integral_values, contribution_integral):\n",
    "    if label_done:\n",
    "        plt.plot(k, c_i, color='orange')\n",
    "    else:\n",
    "        plt.plot(k, c_i, color='orange', label='integral')\n",
    "        label_done = True\n",
    "\n",
    "# label_done = False\n",
    "for k, c_s in zip(k_integral_values, contribution_sum):\n",
    "    if label_done:\n",
    "        plt.plot(k, c_s, color='green')\n",
    "    else:\n",
    "        plt.plot(k, c_s, color='green', label='sum')\n",
    "        label_done = True\n",
    "        \n",
    "plt.title(\n",
    "    r'$n = %.1f n_0$, $\\Pi_{\\pi N N}^{(corr)} + \\Pi_{\\pi N \\Delta}$' % \\\n",
    "    (2 * float(pf) ** 3 / (3 * np.pi ** 2 * .47))\n",
    ")\n",
    "plt.ylim(-.1, 1.1)\n",
    "plt.legend()\n",
    "plt.show()"
   ]
  },
  {
   "cell_type": "code",
   "execution_count": null,
   "id": "2b31df6c-fc51-4ab1-81f8-c6b9c90846bb",
   "metadata": {},
   "outputs": [],
   "source": []
  }
 ],
 "metadata": {
  "kernelspec": {
   "display_name": "Python 3",
   "language": "python",
   "name": "python3"
  },
  "language_info": {
   "codemirror_mode": {
    "name": "ipython",
    "version": 3
   },
   "file_extension": ".py",
   "mimetype": "text/x-python",
   "name": "python",
   "nbconvert_exporter": "python",
   "pygments_lexer": "ipython3",
   "version": "3.8.10"
  }
 },
 "nbformat": 4,
 "nbformat_minor": 5
}
