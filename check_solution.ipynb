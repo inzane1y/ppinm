{
 "cells": [
  {
   "cell_type": "code",
   "execution_count": 1,
   "id": "2527ce9f",
   "metadata": {},
   "outputs": [],
   "source": [
    "import os\n",
    "import numpy as np\n",
    "import matplotlib.pyplot as plt\n",
    "\n",
    "plt.style.use('publication23.mplstyle')\n",
    "\n",
    "import modules_py.functions_vec as fv"
   ]
  },
  {
   "cell_type": "code",
   "execution_count": 2,
   "id": "e612d88e",
   "metadata": {},
   "outputs": [],
   "source": [
    "def get_data_from_file(filename):\n",
    "    '''Data getter.'''\n",
    "    data = np.genfromtxt(filename)\n",
    "    if data.ndim == 1:\n",
    "        return np.array([data[0]]), np.array([data[1:]])\n",
    "    else:\n",
    "        return data[:, 0], data[:, 1:]\n",
    "\n",
    "# Sorting key\n",
    "import re\n",
    "def atoi(text):\n",
    "    '''Turns text to numbers.'''\n",
    "    return int(text) if text.isdigit() else text\n",
    "def natural_keys(text):\n",
    "    '''Keys for intuitive string sorting.'''\n",
    "    return [ atoi(c) for c in re.split(r'(\\d+)', text) ]"
   ]
  },
  {
   "cell_type": "code",
   "execution_count": 3,
   "id": "0f6ef549",
   "metadata": {},
   "outputs": [],
   "source": [
    "pf = 3.01\n",
    "n_pf = 2 * pf ** 3 / (3 * np.pi ** 2 * 0.47)\n",
    "pf_name = '%.3f/' % pf\n",
    "graphs_dir = 'graph_data/'\n",
    "function_name = '_unity_eq_pnd/'\n",
    "directory_name = graphs_dir + function_name + pf_name\n",
    "\n",
    "graph_files = os.listdir(directory_name)\n",
    "graph_files.sort(key=natural_keys)"
   ]
  },
  {
   "cell_type": "code",
   "execution_count": 4,
   "id": "5c3a0cbb",
   "metadata": {},
   "outputs": [
    {
     "data": {
      "image/png": "[encoded data removed]",
      "text/plain": [
       "<Figure size 432x288 with 1 Axes>"
      ]
     },
     "metadata": {
      "needs_background": "light"
     },
     "output_type": "display_data"
    }
   ],
   "source": [
    "for graph_file in graph_files:\n",
    "    K, W = get_data_from_file(directory_name + graph_file)\n",
    "    \n",
    "    for w in W.T:\n",
    "        plt.plot(K, fv.eq_pnd(K, w, pf).real)\n",
    "plt.show()"
   ]
  },
  {
   "cell_type": "code",
   "execution_count": null,
   "id": "2ba18a3d",
   "metadata": {},
   "outputs": [],
   "source": []
  }
 ],
 "metadata": {
  "kernelspec": {
   "display_name": "Python 3",
   "language": "python",
   "name": "python3"
  },
  "language_info": {
   "codemirror_mode": {
    "name": "ipython",
    "version": 3
   },
   "file_extension": ".py",
   "mimetype": "text/x-python",
   "name": "python",
   "nbconvert_exporter": "python",
   "pygments_lexer": "ipython3",
   "version": "3.8.10"
  }
 },
 "nbformat": 4,
 "nbformat_minor": 5
}
